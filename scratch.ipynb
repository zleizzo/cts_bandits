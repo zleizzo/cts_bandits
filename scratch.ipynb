{
 "cells": [
  {
   "cell_type": "code",
   "execution_count": 2,
   "metadata": {},
   "outputs": [],
   "source": [
    "import os\n",
    "import torch\n",
    "import torch.nn as nn\n",
    "import torch.optim as optim\n",
    "import torch.nn.functional as F\n",
    "\n",
    "from tqdm import tqdm"
   ]
  },
  {
   "cell_type": "code",
   "execution_count": 3,
   "metadata": {},
   "outputs": [],
   "source": [
    "class Net(nn.Module):\n",
    "    def __init__(self):\n",
    "        super().__init__()\n",
    "        self.fc1 = nn.Linear(3, 20)\n",
    "        # self.fc2 = nn.Linear(20, 20)\n",
    "        self.fc3 = nn.Linear(20, 1)\n",
    "\n",
    "    def forward(self, x):\n",
    "        x = F.relu(self.fc1(x))\n",
    "        # x = F.relu(self.fc2(x))\n",
    "        x = self.fc3(x)\n",
    "        return x\n",
    "\n",
    "# torch.autograd.grad(outputs, inputs, create_graph = True)\n",
    "# x = [t, s, q]\n",
    "def mu_hat(x):\n",
    "    return (1. + x[1]) / (1. + x[2])\n",
    "\n",
    "# dtV + max_pi [ \\sum_k mu_hat(s_k, q_k) ds_kV + dq_kV + sigma_hat^2/2 + mu_hat(s_k, q_k) ]\n",
    "def hjb_term(net, x):\n",
    "    outputs = net(x)\n",
    "    grad_v = torch.autograd.grad(outputs, x, create_graph = True)[0]\n",
    "    # print(grad_v)\n",
    "    return grad_v[0] + torch.max(mu_hat(x) * (grad_v[1] + 1.) + grad_v[2] + 0.5, torch.tensor([0.5]))\n",
    "\n",
    "\n",
    "def train(net, n, reg, lr):\n",
    "    criterion = nn.CrossEntropyLoss()\n",
    "    optimizer = optim.Adam(net.parameters(), lr=lr)\n",
    "\n",
    "    for i in tqdm(range(n)):\n",
    "        t = torch.rand(1)\n",
    "        q = t * torch.rand(1)\n",
    "        s = 3 * torch.rand(1)\n",
    "        x = torch.tensor([t, s, q], requires_grad = True)\n",
    "        bdry_x = torch.tensor([1., s, q], requires_grad = True)\n",
    "\n",
    "        optimizer.zero_grad()\n",
    "        loss = torch.pow(hjb_term(net, x), 2) + reg * torch.pow(net(bdry_x), 2)\n",
    "        loss.backward()\n",
    "        optimizer.step()"
   ]
  },
  {
   "cell_type": "code",
   "execution_count": 4,
   "metadata": {},
   "outputs": [
    {
     "name": "stderr",
     "output_type": "stream",
     "text": [
      "100%|██████████| 10000/10000 [00:07<00:00, 1344.29it/s]\n"
     ]
    }
   ],
   "source": [
    "net = Net()\n",
    "n = 10000\n",
    "lr = 0.1\n",
    "reg = 0.1\n",
    "\n",
    "train(net, n, reg, lr)"
   ]
  },
  {
   "cell_type": "code",
   "execution_count": 5,
   "metadata": {},
   "outputs": [
    {
     "data": {
      "text/plain": [
       "tensor([-6.4880e-43], grad_fn=<AddBackward0>)"
      ]
     },
     "execution_count": 5,
     "metadata": {},
     "output_type": "execute_result"
    }
   ],
   "source": [
    "net(torch.tensor([1., 0.5, 0.5]))"
   ]
  },
  {
   "cell_type": "code",
   "execution_count": 6,
   "metadata": {},
   "outputs": [],
   "source": [
    "def policy(net, x):\n",
    "    # 0 --> unknown arm, 1 --> known arm\n",
    "    outputs = net(x)\n",
    "    grad_v = torch.autograd.grad(outputs, x, create_graph = True)[0]\n",
    "    return torch.argmax(torch.tensor([mu_hat(x) * (grad_v[1] + 1.) + grad_v[2] + 0.5, 0.5]))"
   ]
  },
  {
   "cell_type": "code",
   "execution_count": 7,
   "metadata": {},
   "outputs": [
    {
     "data": {
      "text/plain": [
       "tensor(0)"
      ]
     },
     "execution_count": 7,
     "metadata": {},
     "output_type": "execute_result"
    }
   ],
   "source": [
    "policy(net, torch.zeros(3, requires_grad=True))"
   ]
  },
  {
   "cell_type": "code",
   "execution_count": 8,
   "metadata": {},
   "outputs": [
    {
     "name": "stderr",
     "output_type": "stream",
     "text": [
      "100%|██████████| 100/100 [00:46<00:00,  2.15it/s]\n"
     ]
    }
   ],
   "source": [
    "import numpy as np\n",
    "\n",
    "means = torch.arange(0, 1.05, 0.05)\n",
    "reps = 100\n",
    "rwds = np.zeros((len(means), reps))\n",
    "\n",
    "n = 100\n",
    "for r in tqdm(range(reps)):\n",
    "    for j, mean in enumerate(means):\n",
    "        s = 0.\n",
    "        q = 0.\n",
    "        for i in range(n):\n",
    "            x = torch.tensor([i / n, s, q], requires_grad = True)\n",
    "            arm = policy(net, x)\n",
    "            if arm == 1:\n",
    "                rwds[j, r] = s + (1. - i / n) * 0.5\n",
    "                break\n",
    "            else:\n",
    "                s += np.random.binomial(1, mean) / n\n",
    "                q += 1. / n\n",
    "                if i == n - 1:\n",
    "                    rwds[j, r] = s\n",
    "            "
   ]
  },
  {
   "cell_type": "code",
   "execution_count": 10,
   "metadata": {},
   "outputs": [
    {
     "data": {
      "image/png": "[encoded data removed]",
      "text/plain": [
       "<Figure size 432x288 with 1 Axes>"
      ]
     },
     "metadata": {
      "needs_background": "light"
     },
     "output_type": "display_data"
    }
   ],
   "source": [
    "import matplotlib.pyplot as plt\n",
    "mean_rwd = np.mean(rwds, axis=1)\n",
    "plt.plot(means, mean_rwd)\n",
    "plt.show()"
   ]
  },
  {
   "cell_type": "code",
   "execution_count": 11,
   "metadata": {},
   "outputs": [
    {
     "data": {
      "text/plain": [
       "tensor(0)"
      ]
     },
     "execution_count": 11,
     "metadata": {},
     "output_type": "execute_result"
    }
   ],
   "source": [
    "policy(net, torch.zeros(3, requires_grad=True))"
   ]
  },
  {
   "cell_type": "code",
   "execution_count": 12,
   "metadata": {},
   "outputs": [
    {
     "data": {
      "text/plain": [
       "tensor([-6.4880e-43], grad_fn=<AddBackward0>)"
      ]
     },
     "execution_count": 12,
     "metadata": {},
     "output_type": "execute_result"
    }
   ],
   "source": [
    "net(torch.tensor([1.,0.5,0.5], requires_grad=True))"
   ]
  },
  {
   "cell_type": "code",
   "execution_count": 13,
   "metadata": {},
   "outputs": [
    {
     "data": {
      "text/plain": [
       "tensor(0)"
      ]
     },
     "execution_count": 13,
     "metadata": {},
     "output_type": "execute_result"
    }
   ],
   "source": [
    "policy(net, torch.tensor([0.9, 0., 0.7], requires_grad=True))"
   ]
  },
  {
   "cell_type": "code",
   "execution_count": null,
   "metadata": {},
   "outputs": [],
   "source": []
  }
 ],
 "metadata": {
  "interpreter": {
   "hash": "aee8b7b246df8f9039afb4144a1f6fd8d2ca17a180786b69acc140d282b71a49"
  },
  "kernelspec": {
   "display_name": "Python 3.7.7 64-bit",
   "language": "python",
   "name": "python3"
  },
  "language_info": {
   "codemirror_mode": {
    "name": "ipython",
    "version": 3
   },
   "file_extension": ".py",
   "mimetype": "text/x-python",
   "name": "python",
   "nbconvert_exporter": "python",
   "pygments_lexer": "ipython3",
   "version": "3.7.7"
  },
  "orig_nbformat": 4
 },
 "nbformat": 4,
 "nbformat_minor": 2
}
